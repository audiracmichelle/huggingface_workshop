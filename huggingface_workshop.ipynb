{
  "cells": [
    {
      "cell_type": "markdown",
      "id": "8da6417d",
      "metadata": {
        "id": "8da6417d"
      },
      "source": [
        "# Hugging Face Workshop"
      ]
    },
    {
      "cell_type": "markdown",
      "id": "fb556049",
      "metadata": {
        "id": "fb556049"
      },
      "source": [
        "## Part 1 — What is Hugging Face?\n",
        "\n",
        "* An open-source Hub, platform and community, for the machine learning and artificial intelligence (AI) field\n",
        "* Enabling users to discover, build, train, share, and deploy open AI models and datasets\n",
        "* It offers libraries for interacting with the Hub's models and datasets"
      ]
    },
    {
      "cell_type": "markdown",
      "source": [
        "It provides a publicly accessible repository of thousands of pre-trained models and datasets for various tasks.\n",
        "\n",
        "Tasks describe the “shape” of each model’s API (inputs and outputs).\n",
        "\n"
      ],
      "metadata": {
        "id": "ap9fvGuXgzdH"
      },
      "id": "ap9fvGuXgzdH"
    },
    {
      "cell_type": "code",
      "source": [
        "from datasets import"
      ],
      "metadata": {
        "id": "nohi2e06v5zs"
      },
      "id": "nohi2e06v5zs",
      "execution_count": 1,
      "outputs": []
    },
    {
      "cell_type": "markdown",
      "id": "9805067d",
      "metadata": {
        "id": "9805067d"
      },
      "source": [
        "\n",
        "\n",
        "## Part 2 — Downloading Datasets\n",
        "(Code cells using `datasets` library.)\n"
      ]
    },
    {
      "cell_type": "code",
      "source": [
        "from datasets import load_dataset"
      ],
      "metadata": {
        "id": "HIfB8gdNfcbk"
      },
      "id": "HIfB8gdNfcbk",
      "execution_count": null,
      "outputs": []
    },
    {
      "cell_type": "markdown",
      "id": "c19b4518",
      "metadata": {
        "id": "c19b4518"
      },
      "source": [
        "\n",
        "## Part 3 — Downloading Models with Transformers\n",
        "\n",
        "The 🤗 Transformers library provides the functionality to create and use  models.\n",
        "\n",
        "The Model Hub contains millions of pretrained models that anyone can download and use. You can also upload your own models to the Hub!"
      ]
    },
    {
      "cell_type": "markdown",
      "id": "d9300a94",
      "metadata": {
        "id": "d9300a94"
      },
      "source": [
        "\n",
        "## Part 4 — Running LLMs Locally (Ollama & vLLM)\n",
        "(Notes and optional code snippets showing usage.)"
      ]
    },
    {
      "cell_type": "markdown",
      "source": [
        "Why is Hugging Face a Community?\n",
        "\n",
        "Community Collaboration: As a social platform, it fosters collaboration among AI enthusiasts, researchers, and developers to share knowledge, improve models, and work together on projects.\n",
        "\n",
        "Tools and Resources: Hugging Face provides tools, demos, documentation, and tutorials to help users learn and experiment with AI models, making it a resource for skill development in the AI field."
      ],
      "metadata": {
        "id": "UceZEm5lhvkx"
      },
      "id": "UceZEm5lhvkx"
    },
    {
      "cell_type": "code",
      "source": [],
      "metadata": {
        "id": "tkimxg6Uh6mo"
      },
      "id": "tkimxg6Uh6mo",
      "execution_count": null,
      "outputs": []
    }
  ],
  "metadata": {
    "language_info": {
      "name": "python"
    },
    "colab": {
      "provenance": []
    },
    "kernelspec": {
      "name": "python3",
      "display_name": "Python 3"
    }
  },
  "nbformat": 4,
  "nbformat_minor": 5
}