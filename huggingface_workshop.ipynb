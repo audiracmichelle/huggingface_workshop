{
  "cells": [
    {
      "cell_type": "markdown",
      "id": "8da6417d",
      "metadata": {
        "id": "8da6417d"
      },
      "source": [
        "# Open AI tools and customization"
      ]
    },
    {
      "cell_type": "markdown",
      "source": [
        "---\n",
        "\n",
        "## Part 1 — Hugging Face\n",
        "\n",
        "---\n",
        "\n",
        "### What is Hugging Face 🤗?\n",
        "\n",
        "* ML/AI open-source Ecosystem\n",
        "  * platform, tools, and community\n",
        "* Hub/Repository for open:\n",
        "  * pre-trained *models* and\n",
        "  * ML/AI ready *datasets*\n",
        "  * demo *apps*\n",
        "\n",
        "  for various **tasks**\n",
        "* Offers *libraries* for interacting with the Hub"
      ],
      "metadata": {
        "id": "jpUhE2XzQpNQ"
      },
      "id": "jpUhE2XzQpNQ"
    },
    {
      "cell_type": "markdown",
      "id": "fb556049",
      "metadata": {
        "id": "fb556049"
      },
      "source": [
        "### What are tasks?\n",
        "\n",
        "**Tasks** describe the “shape” of each model’s API (inputs and outputs).\n",
        "\n",
        "\n",
        "<p align=\"center\"><img src=\"https://drive.google.com/uc?export=view&id=1xDAws-cwDVqPWVYkyaValKv896Hf1J88\" alt=\"diagram\" width=\"400\"/></p>\n",
        "<p align=\"center\"><sub><i>Image source: Hugging Face Docs</i></sub></p>\n",
        "\n",
        "* **image classification**\n",
        "  * input image -> vector of one score per class -> argmax = class\n",
        "* **image segmentation**\n",
        "  * input image -> per-pixel class score -> per-pixel argmax = class masks\n",
        "\n",
        "<p align=\"center\"><img src=\"https://drive.google.com/uc?export=view&id=1_LxbwlGyqSPx6laM2LqCLdaLWk_jUkDn\" align=\"center\" alt=\"diagram\" width=\"400\"/></p>\n",
        "<p align=\"center\"><sub><i>Image source: ChatGPT generated</i></sub></p>\n"
      ]
    },
    {
      "cell_type": "markdown",
      "id": "9805067d",
      "metadata": {
        "id": "9805067d"
      },
      "source": [
        "---\n",
        "\n",
        "## Part 2 — HuggingFace Datasets\n",
        "\n",
        "---\n",
        "\n",
        "### How to interact with Hugging Face datasets?\n",
        "\n",
        "* **Step 1** Filter datasets by task\n",
        "  * image segmentation\n",
        "      \n",
        "      tree cover dataset 4.6k rows https://huggingface.co/datasets/restor/tcd\n",
        "      \n",
        "      tree cover sample 237 rows https://huggingface.co/datasets/restor/tcd-nc\n",
        "* **Step 2** Explore and analize data on the Hub\n",
        "  * view the dataset card\n",
        "      > The dataset contains pairs of images, semantic masks and object segments (instance polygons).\n",
        "      >\n",
        "      >Where known, each image is also tagged with its terrestrial biome index [-1, 14].\n",
        "\n",
        "  * run queries in the dataset studio\n",
        "\n",
        "      https://huggingface.co/datasets/restor/tcd-nc/sql-console/zQ4yMoB\n",
        "\n",
        "      ```\n",
        "      SELECT biome_name, annotation FROM test WHERE biome = 1 LIMIT 10\n",
        "      ```\n",
        "      https://huggingface.co/datasets/restor/tcd-nc/sql-console/zoJd5dv\n",
        "      ```\n",
        "      SELECT biome_name, COUNT(*) FROM train GROUP BY biome_name\n",
        "      ```\n",
        "  * view the dataset files and understand what `*.parquet` files are\n",
        "\n",
        "* **Step 3** Use `datasets` 🤗 library"
      ]
    },
    {
      "cell_type": "markdown",
      "source": [
        "### How to use the `datasets` library?"
      ],
      "metadata": {
        "id": "aZ_KIRzrSdT1"
      },
      "id": "aZ_KIRzrSdT1"
    },
    {
      "cell_type": "code",
      "source": [
        "from datasets import load_dataset"
      ],
      "metadata": {
        "id": "HIfB8gdNfcbk"
      },
      "id": "HIfB8gdNfcbk",
      "execution_count": 1,
      "outputs": []
    },
    {
      "cell_type": "code",
      "source": [
        "\"\"\"\n",
        "  Load a (small) dataset\n",
        "\"\"\"\n",
        "dataset = load_dataset(\"restor/tcd-nc\")"
      ],
      "metadata": {
        "colab": {
          "base_uri": "https://localhost:8080/"
        },
        "id": "8kerLFC4RNc-",
        "outputId": "348ae572-0bea-4dad-cbf9-df3017488040"
      },
      "id": "8kerLFC4RNc-",
      "execution_count": 2,
      "outputs": [
        {
          "output_type": "stream",
          "name": "stderr",
          "text": [
            "/usr/local/lib/python3.12/dist-packages/huggingface_hub/utils/_auth.py:94: UserWarning: \n",
            "The secret `HF_TOKEN` does not exist in your Colab secrets.\n",
            "To authenticate with the Hugging Face Hub, create a token in your settings tab (https://huggingface.co/settings/tokens), set it as secret in your Google Colab and restart your session.\n",
            "You will be able to reuse this secret in all of your notebooks.\n",
            "Please note that authentication is recommended but still optional to access public models or datasets.\n",
            "  warnings.warn(\n"
          ]
        }
      ]
    },
    {
      "cell_type": "code",
      "source": [
        "\"\"\"\n",
        " A DatasetDict contains data splits\n",
        "\"\"\"\n",
        "print(dataset)"
      ],
      "metadata": {
        "colab": {
          "base_uri": "https://localhost:8080/"
        },
        "id": "ZoCmwuFCRXIG",
        "outputId": "c37357a0-743f-4f5b-d211-32bdbadc9113"
      },
      "id": "ZoCmwuFCRXIG",
      "execution_count": 3,
      "outputs": [
        {
          "output_type": "stream",
          "name": "stdout",
          "text": [
            "DatasetDict({\n",
            "    train: Dataset({\n",
            "        features: ['image_id', 'image', 'height', 'width', 'annotation', 'oam_id', 'license', 'biome', 'crs', 'bounds', 'validation_fold', 'biome_name', 'lat', 'lon', 'segments', 'meta', 'coco_annotations'],\n",
            "        num_rows: 237\n",
            "    })\n",
            "    test: Dataset({\n",
            "        features: ['image_id', 'image', 'height', 'width', 'annotation', 'oam_id', 'license', 'biome', 'crs', 'bounds', 'validation_fold', 'biome_name', 'lat', 'lon', 'segments', 'meta', 'coco_annotations'],\n",
            "        num_rows: 35\n",
            "    })\n",
            "})\n"
          ]
        }
      ]
    },
    {
      "cell_type": "code",
      "source": [
        "print(\"Splits:\", list(dataset.keys()))"
      ],
      "metadata": {
        "colab": {
          "base_uri": "https://localhost:8080/"
        },
        "id": "vPZoQrrXRYuq",
        "outputId": "01cc319e-c2de-44a8-c4c7-b4056edc87e9"
      },
      "id": "vPZoQrrXRYuq",
      "execution_count": 4,
      "outputs": [
        {
          "output_type": "stream",
          "name": "stdout",
          "text": [
            "Splits: ['train', 'test']\n"
          ]
        }
      ]
    },
    {
      "cell_type": "code",
      "source": [
        "\"\"\"\n",
        "  HuggingFace datasets library is powered by Arrow\n",
        "  https://huggingface.co/docs/datasets/main/en/about_arrow\n",
        "\"\"\"\n",
        "type(dataset['train'])"
      ],
      "metadata": {
        "colab": {
          "base_uri": "https://localhost:8080/"
        },
        "id": "sjvR98tPbq6Q",
        "outputId": "90a742a0-0048-4d05-9131-59eb575623fe"
      },
      "id": "sjvR98tPbq6Q",
      "execution_count": 5,
      "outputs": [
        {
          "output_type": "execute_result",
          "data": {
            "text/plain": [
              "datasets.arrow_dataset.Dataset"
            ]
          },
          "metadata": {},
          "execution_count": 5
        }
      ]
    },
    {
      "cell_type": "code",
      "source": [
        "print(\"Features:\", dataset[\"train\"].features)"
      ],
      "metadata": {
        "colab": {
          "base_uri": "https://localhost:8080/"
        },
        "id": "j5buXt9KRamd",
        "outputId": "056f7574-4dbf-4e9a-c27a-a35f833dd4d7"
      },
      "id": "j5buXt9KRamd",
      "execution_count": 6,
      "outputs": [
        {
          "output_type": "stream",
          "name": "stdout",
          "text": [
            "Features: {'image_id': Value('int64'), 'image': Image(mode=None, decode=True), 'height': Value('int16'), 'width': Value('int16'), 'annotation': Image(mode=None, decode=True), 'oam_id': Value('string'), 'license': Value('string'), 'biome': Value('int8'), 'crs': Value('string'), 'bounds': List(Value('float32'), length=4), 'validation_fold': Value('int8'), 'biome_name': Value('string'), 'lat': Value('float32'), 'lon': Value('float32'), 'segments': Value('string'), 'meta': Value('string'), 'coco_annotations': Value('string')}\n"
          ]
        }
      ]
    },
    {
      "cell_type": "code",
      "source": [
        "dataset[\"train\"].shape"
      ],
      "metadata": {
        "colab": {
          "base_uri": "https://localhost:8080/"
        },
        "id": "eDVrjtmIfubr",
        "outputId": "5bd95819-8b5d-41db-f3c6-272b61c81e13"
      },
      "id": "eDVrjtmIfubr",
      "execution_count": 7,
      "outputs": [
        {
          "output_type": "execute_result",
          "data": {
            "text/plain": [
              "(237, 17)"
            ]
          },
          "metadata": {},
          "execution_count": 7
        }
      ]
    },
    {
      "cell_type": "code",
      "source": [
        "dataset[\"train\"][\"image\"][0].resize((128, 128))"
      ],
      "metadata": {
        "colab": {
          "base_uri": "https://localhost:8080/",
          "height": 145
        },
        "id": "0GhXBAqDf_t_",
        "outputId": "e7d0f44e-e3db-4b96-8049-f0429802aa54"
      },
      "id": "0GhXBAqDf_t_",
      "execution_count": 8,
      "outputs": [
        {
          "output_type": "execute_result",
          "data": {
            "text/plain": [
              "<PIL.Image.Image image mode=RGB size=128x128>"
            ],
            "image/png": "[encoded data removed]",
            "image/jpeg": "[encoded data removed]"
          },
          "metadata": {},
          "execution_count": 8
        }
      ]
    },
    {
      "cell_type": "code",
      "source": [
        "\"\"\"\n",
        "  Stream a (big/large) dataset\n",
        "  Preview and sample a dataset without downloading it all\n",
        "\"\"\"\n",
        "iter_dataset = load_dataset(\"restor/tcd\", streaming=True)"
      ],
      "metadata": {
        "id": "XuJFxEyvlO9I"
      },
      "id": "XuJFxEyvlO9I",
      "execution_count": 9,
      "outputs": []
    },
    {
      "cell_type": "code",
      "source": [
        "\"\"\"\n",
        "  An IterableDatasetDict contains splits of iterable data\n",
        "\"\"\"\n",
        "print(iter_dataset)"
      ],
      "metadata": {
        "colab": {
          "base_uri": "https://localhost:8080/"
        },
        "id": "joqO4KSDmoL3",
        "outputId": "c28aeda1-16b0-4c0c-c12c-249a84a7219a"
      },
      "id": "joqO4KSDmoL3",
      "execution_count": 10,
      "outputs": [
        {
          "output_type": "stream",
          "name": "stdout",
          "text": [
            "IterableDatasetDict({\n",
            "    train: IterableDataset({\n",
            "        features: ['image_id', 'image', 'height', 'width', 'annotation', 'oam_id', 'license', 'biome', 'crs', 'bounds', 'validation_fold', 'biome_name', 'lat', 'lon', 'segments', 'meta', 'coco_annotations'],\n",
            "        num_shards: 7\n",
            "    })\n",
            "    test: IterableDataset({\n",
            "        features: ['image_id', 'image', 'height', 'width', 'annotation', 'oam_id', 'license', 'biome', 'crs', 'bounds', 'validation_fold', 'biome_name', 'lat', 'lon', 'segments', 'meta', 'coco_annotations'],\n",
            "        num_shards: 1\n",
            "    })\n",
            "})\n"
          ]
        }
      ]
    },
    {
      "cell_type": "code",
      "source": [
        "type(iter_dataset['train'])"
      ],
      "metadata": {
        "colab": {
          "base_uri": "https://localhost:8080/"
        },
        "id": "FNOyvtWfnbo3",
        "outputId": "cd8d9697-092a-45a9-8a29-718ffd31f1f0"
      },
      "id": "FNOyvtWfnbo3",
      "execution_count": 11,
      "outputs": [
        {
          "output_type": "execute_result",
          "data": {
            "text/plain": [
              "datasets.iterable_dataset.IterableDataset"
            ]
          },
          "metadata": {},
          "execution_count": 11
        }
      ]
    },
    {
      "cell_type": "code",
      "source": [
        "it = iter(iter_dataset['train'])"
      ],
      "metadata": {
        "id": "oFwuRgRxL5VQ"
      },
      "id": "oFwuRgRxL5VQ",
      "execution_count": 12,
      "outputs": []
    },
    {
      "cell_type": "code",
      "source": [
        "sample = next(it)\n",
        "sample[\"image\"].resize((128, 128))"
      ],
      "metadata": {
        "colab": {
          "base_uri": "https://localhost:8080/",
          "height": 162
        },
        "id": "9JCtcfwJ0qE7",
        "outputId": "b862d80d-4cc3-474a-c9d9-d2bb4eb96d54"
      },
      "id": "9JCtcfwJ0qE7",
      "execution_count": 2,
      "outputs": [
        {
          "output_type": "error",
          "ename": "NameError",
          "evalue": "name 'it' is not defined",
          "traceback": [
            "\u001b[0;31m---------------------------------------------------------------------------\u001b[0m",
            "\u001b[0;31mNameError\u001b[0m                                 Traceback (most recent call last)",
            "\u001b[0;32m/tmp/ipython-input-701087450.py\u001b[0m in \u001b[0;36m<cell line: 0>\u001b[0;34m()\u001b[0m\n\u001b[0;32m----> 1\u001b[0;31m \u001b[0msample\u001b[0m \u001b[0;34m=\u001b[0m \u001b[0mnext\u001b[0m\u001b[0;34m(\u001b[0m\u001b[0mit\u001b[0m\u001b[0;34m)\u001b[0m\u001b[0;34m\u001b[0m\u001b[0;34m\u001b[0m\u001b[0m\n\u001b[0m\u001b[1;32m      2\u001b[0m \u001b[0msample\u001b[0m\u001b[0;34m[\u001b[0m\u001b[0;34m\"image\"\u001b[0m\u001b[0;34m]\u001b[0m\u001b[0;34m.\u001b[0m\u001b[0mresize\u001b[0m\u001b[0;34m(\u001b[0m\u001b[0;34m(\u001b[0m\u001b[0;36m128\u001b[0m\u001b[0;34m,\u001b[0m \u001b[0;36m128\u001b[0m\u001b[0;34m)\u001b[0m\u001b[0;34m)\u001b[0m\u001b[0;34m\u001b[0m\u001b[0;34m\u001b[0m\u001b[0m\n",
            "\u001b[0;31mNameError\u001b[0m: name 'it' is not defined"
          ]
        }
      ]
    },
    {
      "cell_type": "markdown",
      "source": [
        "\n",
        "\n",
        "---\n",
        "\n",
        "\n",
        "### Exercise\n",
        "\n",
        "1. Browse HuggingFace datasets by task.\n",
        "2. Choose and explore a dataset in the Hub.\n",
        "3. Use the `datasets` library to stream and inspect samples of the dataset.\n",
        "4. Peer discussion - Do HuggingFace datasets follow the **FAIR** principles?\n",
        "\n",
        "  * **Findable**\n",
        "  * **Accessible**\n",
        "  * **Interoperable**\n",
        "  * **Reusable**"
      ],
      "metadata": {
        "id": "9RcJPBipWF-F"
      },
      "id": "9RcJPBipWF-F"
    },
    {
      "cell_type": "markdown",
      "source": [
        "### Additional HuggingFace Datasets References\n",
        "\n",
        "* https://huggingface.co/docs/datasets/main/en/index\n",
        "* https://huggingface.co/docs/dataset-viewer/index\n",
        "* https://huggingface.co/docs/hub/en/datasets-overview\n",
        "* parquet files https://huggingface.co/docs/dataset-viewer/parquet\n"
      ],
      "metadata": {
        "id": "RzKlCNKHf4Wj"
      },
      "id": "RzKlCNKHf4Wj"
    },
    {
      "cell_type": "markdown",
      "id": "c19b4518",
      "metadata": {
        "id": "c19b4518"
      },
      "source": [
        "---\n",
        "\n",
        "## Part 3 — HuggingFace Models\n",
        "\n",
        "---\n",
        "\n",
        "### How to interact with Hugging Face models?\n",
        "\n",
        "* **Step 1** Filter models by task\n",
        "  * image segmentation\n",
        "      * ETH Restor tree cover https://huggingface.co/restor/tcd-segformer-mit-b0\n",
        "      * Nvidia segformer https://huggingface.co/nvidia/segformer-b0-finetuned-ade-512-512\n",
        "\n",
        "* **Step 2** Explore on the Hub\n",
        "  * view the model card\n",
        "      > * The model does not detect individual trees, but provides a per-pixel classification of tree/no-tree.\n",
        "      >\n",
        "      > * Finetuned from model: SegFormer family https://huggingface.co/models?search=nvidia/segformer\n",
        "  * view the files and understand what `*.safetensors` files are\n",
        "\n",
        "    * **secure** unlike formats that rely on Python's pickle utility (such as .bin or .pt files), .safetensors cannot execute arbitrary code during the loading process\n",
        "    * **efficient** designed to reduce model loading times:\n",
        "      * Zero-copy access: It allows the application to directly map the file into memory, reducing memory overhead.\n",
        "      * Lazy loading: It can load only a subset of the tensors\n",
        "    * **framework and language-agnostic** stores raw numerical data and metadata that describe the model without framework-specific code\n",
        "\n",
        "<p align=\"center\"><img src=\"https://drive.google.com/uc?export=view&id=1anlVBTS4ke0kbeieNKCTnRx3iDgNV4Gd\" align=\"center\" alt=\"diagram\" width=\"600\"/></p>\n",
        "<p align=\"center\"><sub><i>Screenshot showing a model weight viewer: 1) Tensors → layer or parameter name (hierarchical), 2) Shape → tensor dimensions (e.g., [256, 64] = 256 output channels, 64 input), 3) Precision → data type (e.g., F32 = 32-bit float, I64 = 64-bit integer). Inside the `decode_head`: 1) `batch_norm` normalization layers, 2) `linear_c` linear projection layers converting encoder feature maps to a unified embedding size, 3) `classifier` final per-pixel classification layer producing class logits. </i></sub></p>\n",
        "\n",
        "* **Step 3** Use 🤗 model libraries: `transformers`, `difusers`\n"
      ]
    },
    {
      "cell_type": "markdown",
      "source": [
        "### Additional HuggingFace Models References\n",
        "\n",
        "* https://huggingface.co/docs/hub/en/models-the-hub\n",
        "* safetensors https://huggingface.co/docs/safetensors/en/index"
      ],
      "metadata": {
        "id": "3n1dAmVzMvle"
      },
      "id": "3n1dAmVzMvle"
    },
    {
      "cell_type": "markdown",
      "id": "d9300a94",
      "metadata": {
        "id": "d9300a94"
      },
      "source": [
        "\n",
        "## Part 4 — GenAI tasks?"
      ]
    },
    {
      "cell_type": "markdown",
      "source": [
        "Running LLMs Locally (Ollama & vLLM)\n",
        "(Notes and optional code snippets showing usage.)\n",
        "\n",
        "Why is Hugging Face a Community?\n",
        "\n",
        "Community Collaboration: As a social platform, it fosters collaboration among AI enthusiasts, researchers, and developers to share knowledge, improve models, and work together on projects.\n",
        "\n",
        "Tools and Resources: Hugging Face provides tools, demos, documentation, and tutorials to help users learn and experiment with AI models, making it a resource for skill development in the AI field."
      ],
      "metadata": {
        "id": "UceZEm5lhvkx"
      },
      "id": "UceZEm5lhvkx"
    },
    {
      "cell_type": "code",
      "source": [],
      "metadata": {
        "id": "tkimxg6Uh6mo"
      },
      "id": "tkimxg6Uh6mo",
      "execution_count": null,
      "outputs": []
    }
  ],
  "metadata": {
    "language_info": {
      "name": "python"
    },
    "colab": {
      "provenance": []
    },
    "kernelspec": {
      "name": "python3",
      "display_name": "Python 3"
    }
  },
  "nbformat": 4,
  "nbformat_minor": 5
}