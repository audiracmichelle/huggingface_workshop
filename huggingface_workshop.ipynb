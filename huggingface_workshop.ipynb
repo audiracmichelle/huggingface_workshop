{
  "cells": [
    {
      "cell_type": "markdown",
      "id": "8da6417d",
      "metadata": {
        "id": "8da6417d"
      },
      "source": [
        "# Open AI tools and customization"
      ]
    },
    {
      "cell_type": "markdown",
      "source": [
        "## Part 1 — Hugging Face\n",
        "\n",
        "### What is Hugging Face?\n",
        "\n",
        "* ML/AI open-source Ecosystem\n",
        "  * platform, tools, and community\n",
        "* Hub/Repository for open:\n",
        "  * pre-trained *models* and\n",
        "  * ML/AI ready *datasets*\n",
        "  * demo *apps*\n",
        "\n",
        "  for various **tasks**\n",
        "* Offers *libraries* for interacting with the Hub"
      ],
      "metadata": {
        "id": "jpUhE2XzQpNQ"
      },
      "id": "jpUhE2XzQpNQ"
    },
    {
      "cell_type": "markdown",
      "id": "fb556049",
      "metadata": {
        "id": "fb556049"
      },
      "source": [
        "### What are tasks?\n",
        "\n",
        "**Tasks** describe the “shape” of each model’s API (inputs and outputs).\n",
        "\n",
        "\n",
        "<p align=\"center\"><img src=\"https://drive.google.com/uc?export=view&id=1xDAws-cwDVqPWVYkyaValKv896Hf1J88\" alt=\"diagram\" width=\"400\"/></p>\n",
        "<p align=\"center\"><sub><i>Image source: Hugging Face Docs</i></sub></p>\n",
        "\n",
        "* **image classification**\n",
        "  * input image -> vector of one score per class -> argmax = class\n",
        "* **image segmentation**\n",
        "  * input image -> per-pixel class score -> per-pixel argmax = class masks\n",
        "\n",
        "<p align=\"center\"><img src=\"https://drive.google.com/uc?export=view&id=1_LxbwlGyqSPx6laM2LqCLdaLWk_jUkDn\" align=\"center\" alt=\"diagram\" width=\"400\"/></p>\n",
        "<p align=\"center\"><sub><i>Image source: ChatGPT generated</i></sub></p>\n"
      ]
    },
    {
      "cell_type": "markdown",
      "id": "9805067d",
      "metadata": {
        "id": "9805067d"
      },
      "source": [
        "\n",
        "\n",
        "## Part 2 — HuggingFace Datasets\n",
        "\n",
        "### How to interact with Hugging Face datasets?\n",
        "\n",
        "* Filter datasets by task.\n",
        "  * **image segmentation dataset** -> https://huggingface.co/datasets/restor/tcd\n",
        "* Explore and analize data on the Hub\n",
        "  * dataset card\n",
        "\n",
        "\n",
        "    > The dataset contains pairs of images, semantic masks and object segments (instance polygons).\n",
        "    >\n",
        "    >Where known, each image is also tagged with its terrestrial biome index [-1, 14].\n",
        "\n",
        "  * dataset studio\n",
        "\n",
        "    https://huggingface.co/datasets/restor/tcd-nc/sql-console/zQ4yMoB\n",
        "\n",
        "    ```\n",
        "    SELECT biome_name, annotation FROM test WHERE biome = 1 LIMIT 10\n",
        "    ```\n",
        "    https://huggingface.co/datasets/restor/tcd-nc/sql-console/zoJd5dv\n",
        "    ```\n",
        "    SELECT biome_name, COUNT(*) FROM train GROUP BY biome_name\n",
        "    ```\n",
        "\n",
        "* Use `datasets` library"
      ]
    },
    {
      "cell_type": "code",
      "source": [
        "from datasets import load_dataset"
      ],
      "metadata": {
        "id": "HIfB8gdNfcbk"
      },
      "id": "HIfB8gdNfcbk",
      "execution_count": 1,
      "outputs": []
    },
    {
      "cell_type": "markdown",
      "id": "c19b4518",
      "metadata": {
        "id": "c19b4518"
      },
      "source": [
        "\n",
        "## Part 3 — HuggingFace Models\n",
        "\n",
        "The 🤗 Transformers library provides the functionality to create and use  models.\n",
        "\n",
        "The Model Hub contains millions of pretrained models that anyone can download and use. You can also upload your own models to the Hub!"
      ]
    },
    {
      "cell_type": "markdown",
      "id": "d9300a94",
      "metadata": {
        "id": "d9300a94"
      },
      "source": [
        "\n",
        "## Part 4 — GenAI tasks?"
      ]
    },
    {
      "cell_type": "markdown",
      "source": [
        "Running LLMs Locally (Ollama & vLLM)\n",
        "(Notes and optional code snippets showing usage.)\n",
        "\n",
        "Why is Hugging Face a Community?\n",
        "\n",
        "Community Collaboration: As a social platform, it fosters collaboration among AI enthusiasts, researchers, and developers to share knowledge, improve models, and work together on projects.\n",
        "\n",
        "Tools and Resources: Hugging Face provides tools, demos, documentation, and tutorials to help users learn and experiment with AI models, making it a resource for skill development in the AI field."
      ],
      "metadata": {
        "id": "UceZEm5lhvkx"
      },
      "id": "UceZEm5lhvkx"
    },
    {
      "cell_type": "code",
      "source": [],
      "metadata": {
        "id": "tkimxg6Uh6mo"
      },
      "id": "tkimxg6Uh6mo",
      "execution_count": 1,
      "outputs": []
    }
  ],
  "metadata": {
    "language_info": {
      "name": "python"
    },
    "colab": {
      "provenance": []
    },
    "kernelspec": {
      "name": "python3",
      "display_name": "Python 3"
    }
  },
  "nbformat": 4,
  "nbformat_minor": 5
}