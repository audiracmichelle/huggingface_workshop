{
  "cells": [
    {
      "cell_type": "markdown",
      "metadata": {
        "id": "view-in-github",
        "colab_type": "text"
      },
      "source": [
        "<a href=\"https://colab.research.google.com/github/audiracmichelle/huggingface_workshop/blob/main/huggingface_workshop.ipynb\" target=\"_parent\"><img src=\"https://colab.research.google.com/assets/colab-badge.svg\" alt=\"Open In Colab\"/></a>"
      ]
    },
    {
      "cell_type": "markdown",
      "id": "8da6417d",
      "metadata": {
        "id": "8da6417d"
      },
      "source": [
        "# Hugging Face Workshop"
      ]
    },
    {
      "cell_type": "markdown",
      "id": "fb556049",
      "metadata": {
        "id": "fb556049"
      },
      "source": [
        "## Part 1 — What is Hugging Face?\n",
        "(Explain what the Hub, models, datasets, and libraries are.)"
      ]
    },
    {
      "cell_type": "code",
      "source": [
        "from datasets import load_dataset"
      ],
      "metadata": {
        "id": "nohi2e06v5zs"
      },
      "id": "nohi2e06v5zs",
      "execution_count": 1,
      "outputs": []
    },
    {
      "cell_type": "markdown",
      "id": "9805067d",
      "metadata": {
        "id": "9805067d"
      },
      "source": [
        "\n",
        "\n",
        "## Part 2 — Downloading Datasets\n",
        "(Code cells using `datasets` library.)\n"
      ]
    },
    {
      "cell_type": "markdown",
      "id": "c19b4518",
      "metadata": {
        "id": "c19b4518"
      },
      "source": [
        "\n",
        "## Part 3 — Downloading Models with Transformers\n",
        "(Code cells using `transformers` library.)\n"
      ]
    },
    {
      "cell_type": "markdown",
      "id": "d9300a94",
      "metadata": {
        "id": "d9300a94"
      },
      "source": [
        "\n",
        "## Part 4 — Running LLMs Locally (Ollama & vLLM)\n",
        "(Notes and optional code snippets showing usage.)"
      ]
    }
  ],
  "metadata": {
    "language_info": {
      "name": "python"
    },
    "colab": {
      "provenance": [],
      "include_colab_link": true
    },
    "kernelspec": {
      "name": "python3",
      "display_name": "Python 3"
    }
  },
  "nbformat": 4,
  "nbformat_minor": 5
}