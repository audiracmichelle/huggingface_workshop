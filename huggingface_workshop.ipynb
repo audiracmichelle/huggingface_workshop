{
 "cells": [
  {
   "cell_type": "markdown",
   "id": "8da6417d",
   "metadata": {},
   "source": [
    "# Hugging Face Workshop"
   ]
  },
  {
   "cell_type": "markdown",
   "id": "fb556049",
   "metadata": {},
   "source": [
    "## Part 1 — What is Hugging Face?\n",
    "(Explain what the Hub, models, datasets, and libraries are.)"
   ]
  },
  {
   "cell_type": "markdown",
   "id": "9805067d",
   "metadata": {},
   "source": [
    "\n",
    "\n",
    "## Part 2 — Downloading Datasets\n",
    "(Code cells using `datasets` library.)\n"
   ]
  },
  {
   "cell_type": "markdown",
   "id": "c19b4518",
   "metadata": {},
   "source": [
    "\n",
    "## Part 3 — Downloading Models with Transformers\n",
    "(Code cells using `transformers` library.)\n"
   ]
  },
  {
   "cell_type": "markdown",
   "id": "d9300a94",
   "metadata": {},
   "source": [
    "\n",
    "## Part 4 — Running LLMs Locally (Ollama & vLLM)\n",
    "(Notes and optional code snippets showing usage.)"
   ]
  }
 ],
 "metadata": {
  "language_info": {
   "name": "python"
  }
 },
 "nbformat": 4,
 "nbformat_minor": 5
}
